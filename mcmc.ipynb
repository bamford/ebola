{
 "cells": [
  {
   "cell_type": "code",
   "execution_count": 2,
   "metadata": {},
   "outputs": [],
   "source": [
    "%matplotlib inline\n",
    "from matplotlib import pyplot as plt"
   ]
  },
  {
   "cell_type": "code",
   "execution_count": 3,
   "metadata": {},
   "outputs": [],
   "source": [
    "from __future__ import  division, print_function\n",
    "\n",
    "import argparse\n",
    "import os\n",
    "\n",
    "import pandas as pd\n",
    "import numpy as np\n",
    "import matplotlib.pyplot as plt\n",
    "from scipy.integrate import odeint\n",
    "#from nnest.nested import NestedSampler\n",
    "from scipy.stats import poisson, norm, beta, gamma\n",
    "from scipy.special import logsumexp\n",
    "\n",
    "class Ebola(object):\n",
    "\n",
    "    def __init__(self, N, country, plot=False):\n",
    "        df = pd.read_csv('data/previous-case-counts-%s.csv' % country)\n",
    "        df['WHO report date'] = pd.to_datetime(df['WHO report date'], format=\"%d/%m/%Y\")\n",
    "        df['delta_time_days'] = (df['WHO report date'] - df['WHO report date'].min()).dt.days\n",
    "        df = df.sort_values('delta_time_days')\n",
    "        self.df = df\n",
    "        self.N = N\n",
    "        self.country = country\n",
    "        self.plot = plot\n",
    "        # Differential case counts\n",
    "        self.delta_cases = df['Total Cases'].values[1:] - df['Total Cases'].values[:-1]\n",
    "        # Differential death counts\n",
    "        self.delta_deaths = df['Total Deaths'].values[1:] - df['Total Deaths'].values[:-1]\n",
    "        print(df)\n",
    "\n",
    "    def rate(self, y, t, beta, k, tau, sigma, gamma, f):\n",
    "        S, E, I, R, C, D = y\n",
    "        beta_t = beta * np.exp(-k * (t - tau))\n",
    "        dydt = [\n",
    "            -beta_t * S * I / self.N,\n",
    "            beta_t * S * I / self.N - sigma * E,\n",
    "            sigma * E - gamma * I,\n",
    "            (1 - f) * gamma * I,\n",
    "            sigma * E,\n",
    "            f * gamma * I\n",
    "        ]\n",
    "        return dydt\n",
    "\n",
    "    def solve(self, beta, k, tau, sigma, gamma, f, offset):\n",
    "        y0 = [self.N - 1, 0, 1, 0, 1, 0]\n",
    "        # Offset initial time by constant\n",
    "        t = self.df['delta_time_days'].values + offset\n",
    "        t[t < 0] = 0\n",
    "        t = np.insert(t, 0, 0, axis=0)\n",
    "        sol = odeint(self.rate, y0, t, args=(beta, k, tau, sigma, gamma, f))\n",
    "        if self.plot:\n",
    "            self.makeplot()\n",
    "        sol = sol[1:]\n",
    "        return sol\n",
    "\n",
    "    def makeplot(self, samples=None, ax=None):\n",
    "        if samples is not None:\n",
    "            model_cases = np.zeros((len(samples), len(self.df['delta_time_days'])))\n",
    "            model_deaths = np.zeros_like(model_cases)\n",
    "            for i, theta in enumerate(samples):\n",
    "                # compute ode model solution\n",
    "                theta_ode = theta[:-4]\n",
    "                sol = self.solve(*theta_ode)\n",
    "                model_cases[i] = sol[:, 4]\n",
    "                model_deaths[i] = sol[:, 5]\n",
    "            c05, c50, c95 = np.percentile(model_cases, [5, 50, 95], axis=0)\n",
    "            d05, d50, d95 = np.percentile(model_deaths, [5, 50, 95], axis=0)\n",
    "\n",
    "        if ax is None:\n",
    "            f, ax = plt.subplots()\n",
    "        ax.set_title(self.country)\n",
    "        t = self.df['delta_time_days']\n",
    "        if samples is not None:\n",
    "            ax.plot(t, c50, linestyle='solid', marker='None', color='red')\n",
    "            ax.fill_between(t, c05, c95, color='red', alpha=0.2)\n",
    "        ax.plot(t, self.df['Total Cases'], color='red', mfc='None', marker='o', linestyle='None')\n",
    "        if samples is not None:\n",
    "            ax.plot(t, d50, linestyle='solid', marker='None', color='black')\n",
    "            ax.fill_between(t, d05, d95, color='blue', alpha=0.2)\n",
    "        ax.plot(t, self.df['Total Deaths'], color='blue', mfc='None', marker='o', linestyle='None')\n",
    "        plt.show()\n",
    "    \n",
    "    def log_prior(self, theta):\n",
    "        b, k, tau, sigma, g, f, offset = theta[:-4]\n",
    "        scatter, scatter_outlier, prob_scatter, prob_outlier = theta[-4:]\n",
    "        logPs = []\n",
    "        # individual priors\n",
    "        logPs.append(beta.logpdf(b, 1.1, 2))\n",
    "        logPs.append(gamma.logpdf(k, 1.1, 0))\n",
    "        logPs.append(gamma.logpdf(tau, 5, 0))\n",
    "        logPs.append(beta.logpdf(sigma, 1.15, 2))\n",
    "        logPs.append(beta.logpdf(g, 1.15, 2))\n",
    "        logPs.append(beta.logpdf(f, 2, 2))\n",
    "        logPs.append(gamma.logpdf(offset, 100, 0))\n",
    "        logPs.append(gamma.logpdf(scatter, 1.01, 0))\n",
    "        logPs.append(gamma.logpdf(scatter_outlier, 2, 0))\n",
    "        logPs.append(beta.logpdf(prob_scatter, 1, 10))\n",
    "        logPs.append(beta.logpdf(prob_outlier, 1, 100))\n",
    "        # combined priors\n",
    "        logPs.append(gamma.logpdf(scatter_outlier/scatter, 100, 1))\n",
    "        logPs.append(gamma.logpdf(prob_scatter/prob_outlier, 100, 1)) \n",
    "        return np.sum(logPs)\n",
    "    \n",
    "    def log_like(self, theta):\n",
    "        logP = self.log_prior(theta)\n",
    "        if np.isinf(logP):\n",
    "            return -np.infty\n",
    "        # compute ode model solution\n",
    "        theta_ode = theta[:-4]\n",
    "        sol = self.solve(*theta_ode)\n",
    "        #sol = sol[1:]\n",
    "        model_cases = sol[:, 4]\n",
    "        model_deaths = sol[:, 5]\n",
    "        delta_model_cases = np.diff(model_cases)\n",
    "        delta_model_deaths = np.diff(model_deaths)\n",
    "        np.putmask(delta_model_cases, delta_model_cases <= 0, 1e-9)\n",
    "        np.putmask(delta_model_deaths, delta_model_deaths <= 0, 1e-9)\n",
    "        # compute loglike\n",
    "        scatter, scatter_outlier, prob_scatter, prob_outlier = theta[-4:]\n",
    "        # avoid NaNs in logarithm\n",
    "        prob_scatter = np.clip(prob_scatter, 1e-99, 1-1e-99)\n",
    "        prob_outlier = np.clip(prob_outlier, 1e-99, 1-1e-99)\n",
    "        scatter = np.clip(scatter, 1e-9, 1e9)\n",
    "        scatter_outlier = np.clip(scatter_outlier, 1e-9, 1e9)\n",
    "        # model logL as sum of three distributions\n",
    "        # 1: an intrinsic Poisson distribution on the true counts\n",
    "        # 2: a Normal scatter proportional to the true count\n",
    "        # 3: a Normal outlier distribution, proportional to the true count\n",
    "        logLs = []\n",
    "        # for cases\n",
    "        logLs.append(np.log(1 - prob_outlier - prob_scatter) +\n",
    "                    poisson.logpmf(self.delta_cases, delta_model_cases))\n",
    "        logLs.append(np.log(prob_scatter) +\n",
    "                     norm.logpdf(self.delta_cases, delta_model_cases, delta_model_cases * scatter))\n",
    "        logLs.append(np.log(prob_outlier) + \n",
    "                     norm.logpdf(self.delta_cases, delta_model_cases, delta_model_cases * scatter_outlier))\n",
    "        # for deaths\n",
    "        logLs.append(np.log(1 - prob_outlier - prob_scatter) +\n",
    "                    poisson.logpmf(self.delta_deaths, delta_model_deaths))\n",
    "        logLs.append(np.log(prob_scatter) +\n",
    "                     norm.logpdf(self.delta_deaths, delta_model_deaths, delta_model_deaths * scatter))\n",
    "        logLs.append(np.log(prob_outlier) + \n",
    "                     norm.logpdf(self.delta_deaths, delta_model_deaths, delta_model_deaths * scatter_outlier))\n",
    "        # using logsumexp helps maintain numerical precision\n",
    "        logL = np.sum(logsumexp(logLs, axis=0))\n",
    "        if np.isnan(logL):\n",
    "            return -np.infty\n",
    "        return logL\n",
    "        \n",
    "\n",
    "    def neg_log_posterior(self, theta):\n",
    "        log_like = self.log_like(theta)\n",
    "        log_prior = self.log_prior(theta)\n",
    "        return -(log_prior + log_like)"
   ]
  },
  {
   "cell_type": "code",
   "execution_count": 5,
   "metadata": {
    "scrolled": true
   },
   "outputs": [
    {
     "data": {
      "text/plain": [
       "[<matplotlib.lines.Line2D at 0x1a143586d8>]"
      ]
     },
     "execution_count": 5,
     "metadata": {},
     "output_type": "execute_result"
    },
    {
     "data": {
      "image/png": "[encoded data removed]",
      "text/plain": [
       "<Figure size 432x288 with 1 Axes>"
      ]
     },
     "metadata": {
      "needs_background": "light"
     },
     "output_type": "display_data"
    }
   ],
   "source": [
    "from scipy.stats import poisson, norm, beta, gamma, lognorm\n",
    "x = np.linspace(0, 100, 1000)\n",
    "plt.plot(x, lognorm.pdf(x, 1, 0, 10))\n",
    "plt.plot(x, gamma.pdf(x, 5, 0))"
   ]
  },
  {
   "cell_type": "code",
   "execution_count": 78,
   "metadata": {
    "scrolled": true
   },
   "outputs": [
    {
     "data": {
      "text/plain": [
       "[<matplotlib.lines.Line2D at 0x1a179ca550>]"
      ]
     },
     "execution_count": 78,
     "metadata": {},
     "output_type": "execute_result"
    },
    {
     "data": {
      "image/png": "[encoded data removed]",
      "text/plain": [
       "<Figure size 432x288 with 1 Axes>"
      ]
     },
     "metadata": {
      "needs_background": "light"
     },
     "output_type": "display_data"
    }
   ],
   "source": [
    "from scipy.stats import poisson, norm, beta, gamma, lognorm\n",
    "x = np.linspace(0, 0.1, 1000)\n",
    "plt.plot(x, beta.logpdf(x, 1, 50))"
   ]
  },
  {
   "cell_type": "code",
   "execution_count": 3,
   "metadata": {},
   "outputs": [],
   "source": [
    "# define some helper functions\n",
    "\n",
    "def get_samples(sampler, nburn):\n",
    "    c = sampler.chain\n",
    "    if c.ndim == 4:\n",
    "        c = c[0]\n",
    "    c = c[:, nburn:]\n",
    "    return c.reshape((np.product(c.shape[:-1]), c.shape[-1]))"
   ]
  },
  {
   "cell_type": "code",
   "execution_count": 4,
   "metadata": {},
   "outputs": [
    {
     "name": "stdout",
     "output_type": "stream",
     "text": [
      "     Unnamed: 0 WHO report date  Total Cases  Total Deaths  delta_time_days\n",
      "264         264      2014-03-25           86            59                0\n",
      "263         263      2014-03-26           86            60                1\n",
      "262         262      2014-03-27          103            66                2\n",
      "261         261      2014-03-31          112            70                6\n",
      "260         260      2014-04-01          122            80                7\n",
      "259         259      2014-04-02          127            83                8\n",
      "258         258      2014-04-07          151            95               13\n",
      "257         257      2014-04-10          157           101               16\n",
      "256         256      2014-04-17          197           122               23\n",
      "255         255      2014-04-21          203           129               27\n",
      "254         254      2014-04-23          208           136               29\n",
      "253         253      2014-04-30          221           146               36\n",
      "252         252      2014-05-05          231           155               41\n",
      "251         251      2014-05-14          233           157               50\n",
      "250         250      2014-05-23          258           174               59\n",
      "249         249      2014-05-27          258           174               63\n",
      "248         248      2014-05-28          281           186               64\n",
      "247         247      2014-06-02          291           193               69\n",
      "246         246      2014-06-05          344           215               72\n",
      "245         245      2014-06-10          372           236               77\n",
      "244         244      2014-06-11          376           241               78\n",
      "243         243      2014-06-18          398           264               85\n",
      "242         242      2014-06-24          390           270               91\n",
      "241         241      2014-07-02          413           303               99\n",
      "240         240      2014-07-07          412           305              104\n",
      "239         239      2014-07-08          408           307              105\n",
      "238         238      2014-07-14          409           309              111\n",
      "237         237      2014-07-16          406           304              113\n",
      "236         236      2014-07-21          410           310              118\n",
      "235         235      2014-07-24          415           314              121\n",
      "..          ...             ...          ...           ...              ...\n",
      "29           29      2015-12-04         3805          2536              619\n",
      "28           28      2015-12-07         3804          2536              622\n",
      "27           27      2015-12-08         3804          2536              623\n",
      "26           26      2015-12-09         3804          2536              624\n",
      "25           25      2015-12-10         3804          2536              625\n",
      "24           24      2015-12-11         3804          2536              626\n",
      "23           23      2015-12-14         3806          2536              629\n",
      "22           22      2015-12-15         3807          2536              630\n",
      "21           21      2015-12-16         3807          2536              631\n",
      "20           20      2015-12-17         3805          2536              632\n",
      "19           19      2015-12-18         3804          2536              633\n",
      "18           18      2015-12-21         3804          2536              636\n",
      "17           17      2015-12-22         3804          2536              637\n",
      "16           16      2015-12-23         3804          2536              638\n",
      "15           15      2015-12-24         3804          2536              639\n",
      "14           14      2015-12-25         3805          2536              640\n",
      "13           13      2015-12-28         3804          2536              643\n",
      "12           12      2015-12-29         3804          2536              644\n",
      "11           11      2015-12-30         3804          2536              645\n",
      "10           10      2016-01-06         3804          2536              652\n",
      "9             9      2016-01-13         3804          2536              659\n",
      "8             8      2016-01-20         3804          2536              666\n",
      "7             7      2016-01-27         3804          2536              673\n",
      "6             6      2016-02-03         3804          2536              680\n",
      "5             5      2016-02-10         3804          2536              687\n",
      "4             4      2016-02-17         3804          2536              694\n",
      "3             3      2016-03-03         3804          2536              709\n",
      "2             2      2016-03-23         3809          2540              729\n",
      "1             1      2016-03-30         3811          2543              736\n",
      "0             0      2016-04-13         3814          2544              750\n",
      "\n",
      "[265 rows x 5 columns]\n"
     ]
    }
   ],
   "source": [
    "N = 1000000\n",
    "country = 'guinea'\n",
    "e = Ebola(N, country, plot=False)\n",
    "\n",
    "# set up ptemcee\n",
    "np.random.seed(666)  # reproducible\n",
    "\n",
    "par = ('beta', 'k', 'tau', 'sigma', 'gamma', 'f', 'offset',\n",
    "       'scatter', 'scatter_outlier', 'prob_scatter', 'prob_outlier')\n",
    "ndim = len(par)  # number of parameters in the model\n",
    "nwalkers = 50  # number of MCMC walkers\n",
    "ntemp = 5  # number of parallel-tempered chains\n",
    "nburn = 5000  # \"burn-in\" period to let chains stabilize\n",
    "nsamp = 10000  # number of MCMC steps to take after burn-in\n",
    "\n",
    "p0 = np.array([0.3, 0.005, 5, 0.15, 0.15, 0.5, 10, 0.01, 1.0, 0.1, 0.01])\n",
    "initial_theta = np.random.normal(p0, 0.1 * np.abs(p0), (ntemp, nwalkers, ndim))"
   ]
  },
  {
   "cell_type": "code",
   "execution_count": 5,
   "metadata": {},
   "outputs": [],
   "source": [
    "from scipy.optimize import minimize"
   ]
  },
  {
   "cell_type": "code",
   "execution_count": 7,
   "metadata": {},
   "outputs": [],
   "source": [
    "import ptemcee"
   ]
  },
  {
   "cell_type": "code",
   "execution_count": 8,
   "metadata": {},
   "outputs": [],
   "source": [
    "sampler = ptemcee.Sampler(nwalkers, ndim, e.log_like, e.log_prior, ntemps=ntemp, threads=4)"
   ]
  },
  {
   "cell_type": "code",
   "execution_count": 9,
   "metadata": {},
   "outputs": [
    {
     "name": "stderr",
     "output_type": "stream",
     "text": [
      "/usr/local/anaconda/envs/py3.6/lib/python3.6/site-packages/ipykernel/__main__.py:131: RuntimeWarning: invalid value encountered in log\n",
      "/usr/local/anaconda/envs/py3.6/lib/python3.6/site-packages/ipykernel/__main__.py:138: RuntimeWarning: invalid value encountered in log\n"
     ]
    },
    {
     "ename": "ValueError",
     "evalue": "Log likelihood function returned NaN.",
     "output_type": "error",
     "traceback": [
      "\u001b[0;31m---------------------------------------------------------------------------\u001b[0m",
      "\u001b[0;31mValueError\u001b[0m                                Traceback (most recent call last)",
      "\u001b[0;32m<ipython-input-9-e9e93cbae8be>\u001b[0m in \u001b[0;36m<module>\u001b[0;34m()\u001b[0m\n\u001b[0;32m----> 1\u001b[0;31m \u001b[0mr\u001b[0m \u001b[0;34m=\u001b[0m \u001b[0msampler\u001b[0m\u001b[0;34m.\u001b[0m\u001b[0mrun_mcmc\u001b[0m\u001b[0;34m(\u001b[0m\u001b[0minitial_theta\u001b[0m\u001b[0;34m,\u001b[0m \u001b[0mnburn\u001b[0m\u001b[0;34m+\u001b[0m\u001b[0mnsamp\u001b[0m\u001b[0;34m)\u001b[0m\u001b[0;34m\u001b[0m\u001b[0;34m\u001b[0m\u001b[0m\n\u001b[0m",
      "\u001b[0;32m/usr/local/anaconda/envs/py3.6/lib/python3.6/site-packages/ptemcee/sampler.py\u001b[0m in \u001b[0;36mrun_mcmc\u001b[0;34m(self, *args, **kwargs)\u001b[0m\n\u001b[1;32m    275\u001b[0m \u001b[0;34m\u001b[0m\u001b[0m\n\u001b[1;32m    276\u001b[0m         \"\"\"\n\u001b[0;32m--> 277\u001b[0;31m         \u001b[0;32mfor\u001b[0m \u001b[0mx\u001b[0m \u001b[0;32min\u001b[0m \u001b[0mself\u001b[0m\u001b[0;34m.\u001b[0m\u001b[0msample\u001b[0m\u001b[0;34m(\u001b[0m\u001b[0;34m*\u001b[0m\u001b[0margs\u001b[0m\u001b[0;34m,\u001b[0m \u001b[0;34m**\u001b[0m\u001b[0mkwargs\u001b[0m\u001b[0;34m)\u001b[0m\u001b[0;34m:\u001b[0m\u001b[0;34m\u001b[0m\u001b[0;34m\u001b[0m\u001b[0m\n\u001b[0m\u001b[1;32m    278\u001b[0m             \u001b[0;32mpass\u001b[0m\u001b[0;34m\u001b[0m\u001b[0;34m\u001b[0m\u001b[0m\n\u001b[1;32m    279\u001b[0m         \u001b[0;32mreturn\u001b[0m \u001b[0mx\u001b[0m\u001b[0;34m\u001b[0m\u001b[0;34m\u001b[0m\u001b[0m\n",
      "\u001b[0;32m/usr/local/anaconda/envs/py3.6/lib/python3.6/site-packages/ptemcee/sampler.py\u001b[0m in \u001b[0;36msample\u001b[0;34m(self, p0, iterations, thin, storechain, adapt, swap_ratios)\u001b[0m\n\u001b[1;32m    379\u001b[0m                                                    psample[k, js, :])\n\u001b[1;32m    380\u001b[0m \u001b[0;34m\u001b[0m\u001b[0m\n\u001b[0;32m--> 381\u001b[0;31m                 \u001b[0mqslogl\u001b[0m\u001b[0;34m,\u001b[0m \u001b[0mqslogp\u001b[0m \u001b[0;34m=\u001b[0m \u001b[0mself\u001b[0m\u001b[0;34m.\u001b[0m\u001b[0m_evaluate\u001b[0m\u001b[0;34m(\u001b[0m\u001b[0mqs\u001b[0m\u001b[0;34m)\u001b[0m\u001b[0;34m\u001b[0m\u001b[0;34m\u001b[0m\u001b[0m\n\u001b[0m\u001b[1;32m    382\u001b[0m                 \u001b[0mqslogpost\u001b[0m \u001b[0;34m=\u001b[0m \u001b[0mself\u001b[0m\u001b[0;34m.\u001b[0m\u001b[0m_tempered_likelihood\u001b[0m\u001b[0;34m(\u001b[0m\u001b[0mqslogl\u001b[0m\u001b[0;34m)\u001b[0m \u001b[0;34m+\u001b[0m \u001b[0mqslogp\u001b[0m\u001b[0;34m\u001b[0m\u001b[0;34m\u001b[0m\u001b[0m\n\u001b[1;32m    383\u001b[0m \u001b[0;34m\u001b[0m\u001b[0m\n",
      "\u001b[0;32m/usr/local/anaconda/envs/py3.6/lib/python3.6/site-packages/ptemcee/sampler.py\u001b[0m in \u001b[0;36m_evaluate\u001b[0;34m(self, ps)\u001b[0m\n\u001b[1;32m    428\u001b[0m     \u001b[0;32mdef\u001b[0m \u001b[0m_evaluate\u001b[0m\u001b[0;34m(\u001b[0m\u001b[0mself\u001b[0m\u001b[0;34m,\u001b[0m \u001b[0mps\u001b[0m\u001b[0;34m)\u001b[0m\u001b[0;34m:\u001b[0m\u001b[0;34m\u001b[0m\u001b[0;34m\u001b[0m\u001b[0m\n\u001b[1;32m    429\u001b[0m         \u001b[0mmapf\u001b[0m \u001b[0;34m=\u001b[0m \u001b[0mmap\u001b[0m \u001b[0;32mif\u001b[0m \u001b[0mself\u001b[0m\u001b[0;34m.\u001b[0m\u001b[0mpool\u001b[0m \u001b[0;32mis\u001b[0m \u001b[0;32mNone\u001b[0m \u001b[0;32melse\u001b[0m \u001b[0mself\u001b[0m\u001b[0;34m.\u001b[0m\u001b[0mpool\u001b[0m\u001b[0;34m.\u001b[0m\u001b[0mmap\u001b[0m\u001b[0;34m\u001b[0m\u001b[0;34m\u001b[0m\u001b[0m\n\u001b[0;32m--> 430\u001b[0;31m         \u001b[0mresults\u001b[0m \u001b[0;34m=\u001b[0m \u001b[0mlist\u001b[0m\u001b[0;34m(\u001b[0m\u001b[0mmapf\u001b[0m\u001b[0;34m(\u001b[0m\u001b[0mself\u001b[0m\u001b[0;34m.\u001b[0m\u001b[0m_likeprior\u001b[0m\u001b[0;34m,\u001b[0m \u001b[0mps\u001b[0m\u001b[0;34m.\u001b[0m\u001b[0mreshape\u001b[0m\u001b[0;34m(\u001b[0m\u001b[0;34m(\u001b[0m\u001b[0;34m-\u001b[0m\u001b[0;36m1\u001b[0m\u001b[0;34m,\u001b[0m \u001b[0mself\u001b[0m\u001b[0;34m.\u001b[0m\u001b[0mdim\u001b[0m\u001b[0;34m)\u001b[0m\u001b[0;34m)\u001b[0m\u001b[0;34m)\u001b[0m\u001b[0;34m)\u001b[0m\u001b[0;34m\u001b[0m\u001b[0;34m\u001b[0m\u001b[0m\n\u001b[0m\u001b[1;32m    431\u001b[0m \u001b[0;34m\u001b[0m\u001b[0m\n\u001b[1;32m    432\u001b[0m         logl = np.fromiter((r[0] for r in results), np.float,\n",
      "\u001b[0;32m/usr/local/anaconda/envs/py3.6/lib/python3.6/site-packages/ptemcee/sampler.py\u001b[0m in \u001b[0;36m__call__\u001b[0;34m(self, x)\u001b[0m\n\u001b[1;32m    137\u001b[0m             \u001b[0mll\u001b[0m \u001b[0;34m=\u001b[0m \u001b[0mself\u001b[0m\u001b[0;34m.\u001b[0m\u001b[0mlogl\u001b[0m\u001b[0;34m(\u001b[0m\u001b[0mx\u001b[0m\u001b[0;34m,\u001b[0m \u001b[0;34m*\u001b[0m\u001b[0mself\u001b[0m\u001b[0;34m.\u001b[0m\u001b[0mloglargs\u001b[0m\u001b[0;34m,\u001b[0m \u001b[0;34m**\u001b[0m\u001b[0mself\u001b[0m\u001b[0;34m.\u001b[0m\u001b[0mloglkwargs\u001b[0m\u001b[0;34m)\u001b[0m\u001b[0;34m\u001b[0m\u001b[0;34m\u001b[0m\u001b[0m\n\u001b[1;32m    138\u001b[0m             \u001b[0;32mif\u001b[0m \u001b[0mnp\u001b[0m\u001b[0;34m.\u001b[0m\u001b[0misnan\u001b[0m\u001b[0;34m(\u001b[0m\u001b[0mll\u001b[0m\u001b[0;34m)\u001b[0m\u001b[0;34m.\u001b[0m\u001b[0many\u001b[0m\u001b[0;34m(\u001b[0m\u001b[0;34m)\u001b[0m\u001b[0;34m:\u001b[0m\u001b[0;34m\u001b[0m\u001b[0;34m\u001b[0m\u001b[0m\n\u001b[0;32m--> 139\u001b[0;31m                 \u001b[0;32mraise\u001b[0m \u001b[0mValueError\u001b[0m\u001b[0;34m(\u001b[0m\u001b[0;34m'Log likelihood function returned NaN.'\u001b[0m\u001b[0;34m)\u001b[0m\u001b[0;34m\u001b[0m\u001b[0;34m\u001b[0m\u001b[0m\n\u001b[0m\u001b[1;32m    140\u001b[0m \u001b[0;34m\u001b[0m\u001b[0m\n\u001b[1;32m    141\u001b[0m         \u001b[0;32mreturn\u001b[0m \u001b[0mll\u001b[0m\u001b[0;34m,\u001b[0m \u001b[0mlp\u001b[0m\u001b[0;34m\u001b[0m\u001b[0;34m\u001b[0m\u001b[0m\n",
      "\u001b[0;31mValueError\u001b[0m: Log likelihood function returned NaN."
     ]
    }
   ],
   "source": [
    "r = sampler.run_mcmc(initial_theta, nburn+nsamp)"
   ]
  },
  {
   "cell_type": "code",
   "execution_count": null,
   "metadata": {},
   "outputs": [],
   "source": [
    "import pickle\n",
    "with open('sampler', 'wb') as f:\n",
    "    pickle.dump(sampler, f)"
   ]
  },
  {
   "cell_type": "code",
   "execution_count": null,
   "metadata": {},
   "outputs": [],
   "source": [
    "# plot the chains to visually assess convergence\n",
    "plt.figure(figsize=[20,10])\n",
    "for i, p in enumerate(par):\n",
    "    plt.subplot((ndim+1)//2, 2, i+1)\n",
    "    for w in range(nwalkers):\n",
    "            plt.plot(numpy.arange(sampler.chain.shape[2]), sampler.chain[2,w,:,i], 'r-', alpha=0.1)\n",
    "            plt.plot(numpy.arange(sampler.chain.shape[2]), sampler.chain[0,w,:,i], 'g-', alpha=0.1)\n",
    "    plt.ylabel(p)\n",
    "    aymin, aymax = plt.ylim()\n",
    "    plt.vlines(nburn, aymin, aymax, linestyle=':')\n",
    "    plt.ylim(aymin, aymax)"
   ]
  },
  {
   "cell_type": "code",
   "execution_count": null,
   "metadata": {},
   "outputs": [],
   "source": [
    "# plot the chains to visually assess auto correlation time at equilibrium\n",
    "plt.figure(figsize=[20,10])\n",
    "for i, p in enumerate(par):\n",
    "    plt.subplot((ndim+1)//2, 2, i+1)\n",
    "    for w in range(0,nwalkers,10):\n",
    "            plt.plot(numpy.arange(100), sampler.chain[1,w,nburn:nburn+100,i], 'r-')\n",
    "            plt.plot(numpy.arange(100), sampler.chain[0,w,nburn:nburn+100,i], 'g-')\n",
    "    plt.ylabel(p)\n",
    "    aymin = np.min(sampler.chain[0,:,nburn:,i])\n",
    "    aymax = np.max(sampler.chain[0,:,nburn:nburn+100,i])\n",
    "    plt.ylim(aymin, aymax)\n",
    "    plt.tight_layout()"
   ]
  },
  {
   "cell_type": "code",
   "execution_count": null,
   "metadata": {},
   "outputs": [],
   "source": [
    "samples = get_samples(sampler, nburn)"
   ]
  },
  {
   "cell_type": "code",
   "execution_count": null,
   "metadata": {},
   "outputs": [],
   "source": [
    "# examine parameter histograms\n",
    "plt.figure(figsize=[20,10])\n",
    "for i, p in enumerate(par):\n",
    "    plt.subplot((ndim+1)//2, 2, i+1)\n",
    "    n, b, patches = plt.hist(samples[:,i], bins=100, color='b', histtype='stepfilled', log=True)\n",
    "    plt.xlabel(p)\n",
    "    plt.tight_layout()"
   ]
  },
  {
   "cell_type": "code",
   "execution_count": null,
   "metadata": {},
   "outputs": [],
   "source": [
    "import corner\n",
    "# create mega plot for parallel-tempered method\n",
    "corner.corner(samples, labels=par)\n",
    "ax = plt.subplot(2, 2, 2)\n",
    "selection = np.random.choice(len(samples), 1000, replace=False)\n",
    "e.makeplot(samples=samples[selection], ax=ax)\n",
    "plt.subplots_adjust(wspace=0.15, hspace=0.15);"
   ]
  },
  {
   "cell_type": "code",
   "execution_count": null,
   "metadata": {},
   "outputs": [],
   "source": [
    "e.makeplot(samples=[])"
   ]
  },
  {
   "cell_type": "code",
   "execution_count": null,
   "metadata": {},
   "outputs": [],
   "source": []
  }
 ],
 "metadata": {
  "kernelspec": {
   "display_name": "Python [conda env:py3.6]",
   "language": "python",
   "name": "conda-env-py3.6-py"
  },
  "language_info": {
   "codemirror_mode": {
    "name": "ipython",
    "version": 3
   },
   "file_extension": ".py",
   "mimetype": "text/x-python",
   "name": "python",
   "nbconvert_exporter": "python",
   "pygments_lexer": "ipython3",
   "version": "3.6.8"
  }
 },
 "nbformat": 4,
 "nbformat_minor": 2
}
