{
 "cells": [
  {
   "cell_type": "code",
   "execution_count": 1,
   "metadata": {},
   "outputs": [],
   "source": [
    "%matplotlib inline\n",
    "from matplotlib import pyplot as plt"
   ]
  },
  {
   "cell_type": "code",
   "execution_count": 2,
   "metadata": {},
   "outputs": [],
   "source": [
    "# a vaguely realistic, slightly non-trivial model\n",
    "from scipy.special import expit\n",
    "def testmodel(t, tmid=234, tau0=25, tau1=5, nmax=2345):\n",
    "    tau = tau0 + tau1 * t / tau0\n",
    "    x = (t - tmid) / tau\n",
    "    y = nmax * expit(x)\n",
    "    #y = y.round().astype(np.int)\n",
    "    return y"
   ]
  },
  {
   "cell_type": "code",
   "execution_count": 3,
   "metadata": {},
   "outputs": [],
   "source": [
    "# high resolution truth for plotting\n",
    "t_plot = np.linspace(0, 500, 100)\n",
    "y_true_plot = testmodel(t_plot)"
   ]
  },
  {
   "cell_type": "code",
   "execution_count": 4,
   "metadata": {},
   "outputs": [],
   "source": [
    "# truth sampled at random set of times\n",
    "nsamp = 50\n",
    "tmax = 200\n",
    "t = np.sort(np.random.choice(tmax, nsamp, replace=False).round().astype(np.int))\n",
    "y_true = testmodel(t).round().astype(np.int)"
   ]
  },
  {
   "cell_type": "code",
   "execution_count": 5,
   "metadata": {},
   "outputs": [],
   "source": [
    "# simulate noisy observations by treating differential counts as Poisson\n",
    "yd_true = np.diff(y_true)\n",
    "yd_obs = np.random.poisson(yd_true)\n",
    "y_obs = np.concatenate(([0], yd_obs.cumsum()))"
   ]
  },
  {
   "cell_type": "code",
   "execution_count": 6,
   "metadata": {},
   "outputs": [],
   "source": [
    "# examine distribution of (observed - truth) residuals\n",
    "yd_obs_ensemble = np.random.poisson(yd_true, (1000,) + yd_true.shape)\n",
    "y_obs_ensemble = np.concatenate((np.zeros((1000, 1)), yd_obs_ensemble.cumsum(axis=-1)), axis=1)\n",
    "y_res = y_obs_ensemble - y_true\n",
    "s_obs_true = y_res.std(axis=0)"
   ]
  },
  {
   "cell_type": "code",
   "execution_count": 7,
   "metadata": {},
   "outputs": [],
   "source": [
    "# consider rates\n",
    "from scipy.misc import derivative\n",
    "tr = 0.5*(t[:-1] + t[1:])\n",
    "r_true_plot = derivative(testmodel, t_plot)\n",
    "r_true = derivative(testmodel, tr)\n",
    "r_obs = np.diff(y_obs) / np.diff(t)"
   ]
  },
  {
   "cell_type": "code",
   "execution_count": 43,
   "metadata": {},
   "outputs": [
    {
     "data": {
      "text/plain": [
       "array([  0.        ,   0.75      ,   0.        ,   0.        ,\n",
       "         0.        ,   0.36363636,   0.6       ,   0.        ,\n",
       "         0.        ,   1.        ,   0.        ,   1.        ,\n",
       "         0.        ,   2.        ,   0.3       ,   0.875     ,\n",
       "         1.5       ,   2.        ,   2.        ,   2.        ,\n",
       "         4.        ,   1.8       ,   1.        ,   2.        ,\n",
       "         2.        ,   2.5       ,   2.33333333,   3.33333333,\n",
       "         2.6       ,   1.        ,   4.71428571,   6.66666667,\n",
       "         6.71428571,   7.        ,   9.        ,   7.25      ,\n",
       "         6.8       ,   8.3       ,  10.        ,   9.        ,\n",
       "        12.        ,   4.        ,   6.66666667,   9.35714286,\n",
       "        11.        ,   7.        ,  11.77777778,  10.5       ,  10.        ])"
      ]
     },
     "execution_count": 43,
     "metadata": {},
     "output_type": "execute_result"
    }
   ],
   "source": [
    "r_obs_ensemble[126]"
   ]
  },
  {
   "cell_type": "code",
   "execution_count": 8,
   "metadata": {},
   "outputs": [],
   "source": [
    "# examine distribution of (observed - truth) residuals\n",
    "r_obs_ensemble = np.diff(yd_obs_ensemble, axis=1) / np.diff(t)\n",
    "r_res = r_obs_ensemble - r_true\n",
    "sr_obs_true = r_res.std(axis=0)"
   ]
  },
  {
   "cell_type": "code",
   "execution_count": 73,
   "metadata": {},
   "outputs": [],
   "source": [
    "from sklearn.gaussian_process import GaussianProcessRegressor\n",
    "from sklearn.gaussian_process.kernels import RBF, WhiteKernel\n",
    "kernel = (1 * RBF(length_scale=10.0, length_scale_bounds=(1, 1e3)) +\n",
    "          WhiteKernel(noise_level=0.1, noise_level_bounds=(1e-10, 1e+1)))\n",
    "reg = GaussianProcessRegressor(kernel=kernel, normalize_y=True)"
   ]
  },
  {
   "cell_type": "code",
   "execution_count": 74,
   "metadata": {},
   "outputs": [],
   "source": [
    "tr_fit = np.concatenate(([-1], tr))\n",
    "r_fit = np.concatenate(([0], r_obs))"
   ]
  },
  {
   "cell_type": "code",
   "execution_count": 75,
   "metadata": {},
   "outputs": [
    {
     "data": {
      "text/plain": [
       "GaussianProcessRegressor(alpha=1e-10, copy_X_train=True,\n",
       "             kernel=1**2 * RBF(length_scale=10) + WhiteKernel(noise_level=0.1),\n",
       "             n_restarts_optimizer=0, normalize_y=True,\n",
       "             optimizer='fmin_l_bfgs_b', random_state=None)"
      ]
     },
     "execution_count": 75,
     "metadata": {},
     "output_type": "execute_result"
    }
   ],
   "source": [
    "reg.fit(tr_fit.reshape(-1, 1), r_fit)"
   ]
  },
  {
   "cell_type": "code",
   "execution_count": 76,
   "metadata": {},
   "outputs": [
    {
     "data": {
      "text/plain": [
       "3.76**2 * RBF(length_scale=89.5) + WhiteKernel(noise_level=1.19)"
      ]
     },
     "execution_count": 76,
     "metadata": {},
     "output_type": "execute_result"
    }
   ],
   "source": [
    "reg.kernel_"
   ]
  },
  {
   "cell_type": "code",
   "execution_count": 77,
   "metadata": {},
   "outputs": [],
   "source": [
    "r_reg = reg.predict(tr.reshape(-1, 1))\n",
    "r_reg_plot = reg.predict(t_plot.reshape(-1, 1))"
   ]
  },
  {
   "cell_type": "code",
   "execution_count": 78,
   "metadata": {},
   "outputs": [
    {
     "data": {
      "image/png": "[encoded data removed]",
      "text/plain": [
       "<Figure size 432x288 with 1 Axes>"
      ]
     },
     "metadata": {
      "needs_background": "light"
     },
     "output_type": "display_data"
    }
   ],
   "source": [
    "plt.plot(t_plot, r_true_plot, label='model')\n",
    "plt.plot(tr, r_true, 'o', label='sampled')\n",
    "plt.plot(tr, r_obs, 'x', label='observed')\n",
    "plt.plot(tr_fit, r_fit, 'x', label='observed')\n",
    "plt.plot(t_plot, r_reg_plot, '--', label='predicted')\n",
    "plt.ylabel('y')\n",
    "plt.xlabel('t')\n",
    "plt.legend();"
   ]
  },
  {
   "cell_type": "code",
   "execution_count": 15,
   "metadata": {},
   "outputs": [],
   "source": [
    "from sklearn.isotonic import IsotonicRegression\n",
    "reg = IsotonicRegression(out_of_bounds='clip')"
   ]
  },
  {
   "cell_type": "code",
   "execution_count": 16,
   "metadata": {},
   "outputs": [
    {
     "data": {
      "text/plain": [
       "IsotonicRegression(increasing=True, out_of_bounds='clip', y_max=None,\n",
       "          y_min=None)"
      ]
     },
     "execution_count": 16,
     "metadata": {},
     "output_type": "execute_result"
    }
   ],
   "source": [
    "reg.fit(t, y_obs)"
   ]
  },
  {
   "cell_type": "code",
   "execution_count": 17,
   "metadata": {},
   "outputs": [],
   "source": [
    "y_reg = reg.predict(t).round().astype(np.int)\n",
    "y_reg_plot = reg.predict(t_plot).round().astype(np.int)"
   ]
  },
  {
   "cell_type": "code",
   "execution_count": 18,
   "metadata": {},
   "outputs": [
    {
     "data": {
      "text/plain": [
       "True"
      ]
     },
     "execution_count": 18,
     "metadata": {},
     "output_type": "execute_result"
    }
   ],
   "source": [
    "(y_reg == y_obs).all()"
   ]
  },
  {
   "cell_type": "code",
   "execution_count": 19,
   "metadata": {},
   "outputs": [
    {
     "data": {
      "image/png": "[encoded data removed]",
      "text/plain": [
       "<Figure size 432x288 with 1 Axes>"
      ]
     },
     "metadata": {
      "needs_background": "light"
     },
     "output_type": "display_data"
    }
   ],
   "source": [
    "plt.plot(t_plot, y_true_plot, label='model')\n",
    "plt.plot(t, y_true, 'o', label='sampled')\n",
    "plt.plot(t, y_obs, 'x', label='observed')\n",
    "plt.plot(t_plot, y_reg_plot, '--', label='predicted')\n",
    "plt.ylabel('y')\n",
    "plt.xlabel('t')\n",
    "plt.legend();"
   ]
  },
  {
   "cell_type": "code",
   "execution_count": 20,
   "metadata": {},
   "outputs": [],
   "source": [
    "def bootstrap(t, y, reg, reg2d=True, n_bs=100):\n",
    "    # predict y for each value of t by fitting bootstrap samples\n",
    "    # that do _not_ include the value of t in question\n",
    "    y_bs_reg = np.zeros((n_bs, len(t)))\n",
    "    for j in range(len(t)):\n",
    "        yj = np.delete(y, j)\n",
    "        bs_idx = np.random.choice(len(yj), (n_bs, len(y)))\n",
    "        bs_idx.sort(axis=-1)\n",
    "        t_bs = t[bs_idx]\n",
    "        y_bs = y[bs_idx]\n",
    "        for i in range(n_bs):\n",
    "            tfit = t_bs[i]\n",
    "            tpred = t[j:j+1]\n",
    "            if reg2d:\n",
    "                tfit = tfit.reshape(-1, 1)\n",
    "                tpred = tpred.reshape(-1, 1)\n",
    "            # fit to bs samples\n",
    "            reg.fit(tfit, y_bs[i])\n",
    "            # predict at observed times\n",
    "            y_bs_reg[i, j] = reg.predict(tpred).round().astype(np.int)\n",
    "    return y_bs_reg"
   ]
  },
  {
   "cell_type": "code",
   "execution_count": 28,
   "metadata": {},
   "outputs": [
    {
     "name": "stdout",
     "output_type": "stream",
     "text": [
      "3.76**2 * RBF(length_scale=89.5) + WhiteKernel(noise_level=1.19)\n"
     ]
    }
   ],
   "source": [
    "kernel = (1.0 * RBF(length_scale=10.0, length_scale_bounds=(1e-2, 1e3)) +\n",
    "          WhiteKernel(noise_level=1, noise_level_bounds=(1e-10, 1e+1)))\n",
    "reg = GaussianProcessRegressor(kernel=kernel, normalize_y=True)\n",
    "reg.fit(tr_fit.reshape(-1, 1), r_fit)\n",
    "print(reg.kernel_)\n",
    "reg.optimizer = None\n",
    "r_bs_reg = bootstrap(tr_fit, r_fit, reg)"
   ]
  },
  {
   "cell_type": "code",
   "execution_count": 29,
   "metadata": {},
   "outputs": [],
   "source": [
    "r_bs_reg = r_bs_reg[:, 1:]"
   ]
  },
  {
   "cell_type": "code",
   "execution_count": 30,
   "metadata": {},
   "outputs": [],
   "source": [
    "sr_bs = r_bs_reg.std(axis=0)"
   ]
  },
  {
   "cell_type": "code",
   "execution_count": 31,
   "metadata": {},
   "outputs": [
    {
     "data": {
      "text/plain": [
       "array([ 0.63,  0.58,  0.52,  0.54,  0.48,  0.22,  0.29,  0.44,  0.5 ,\n",
       "        0.51,  0.48,  0.5 ,  0.48,  0.46,  0.31,  0.51,  0.54,  0.54,\n",
       "        0.49,  0.42,  0.37,  0.33,  0.49,  0.45,  0.42,  0.38,  0.47,\n",
       "        0.22,  0.42,  0.48,  0.49,  0.36,  0.63,  0.9 ,  0.81,  0.65,\n",
       "        0.66,  0.69,  0.74,  0.79,  0.87,  0.94,  0.85,  0.68,  0.9 ,\n",
       "        0.85,  0.82,  0.78,  0.82])"
      ]
     },
     "execution_count": 31,
     "metadata": {},
     "output_type": "execute_result"
    }
   ],
   "source": [
    "sr_bs.round(2)"
   ]
  },
  {
   "cell_type": "code",
   "execution_count": null,
   "metadata": {},
   "outputs": [],
   "source": [
    "# Expected Poisson error"
   ]
  },
  {
   "cell_type": "code",
   "execution_count": 32,
   "metadata": {},
   "outputs": [
    {
     "data": {
      "text/plain": [
       "array([ 0.  ,  0.24,  0.  ,  0.  ,  0.  ,  0.12,  0.2 ,  0.  ,  0.  ,\n",
       "        0.5 ,  0.  ,  0.47,  0.  ,  0.98,  0.24,  0.36,  0.87,  0.68,\n",
       "        0.48,  0.87,  1.4 ,  0.65,  1.39,  1.39,  1.09,  0.8 ,  1.  ,\n",
       "        1.  ,  0.85,  1.94,  0.78,  0.87,  0.63,  1.09,  1.86,  0.96,\n",
       "        1.28,  0.93,  2.9 ,  2.75,  3.03,  2.94,  1.75,  0.82,  2.16,\n",
       "        2.97,  1.  ,  1.5 ,  1.37])"
      ]
     },
     "execution_count": 32,
     "metadata": {},
     "output_type": "execute_result"
    }
   ],
   "source": [
    "sr_obs_true.round(2)"
   ]
  },
  {
   "cell_type": "code",
   "execution_count": 33,
   "metadata": {},
   "outputs": [
    {
     "data": {
      "text/plain": [
       "[<matplotlib.lines.Line2D at 0x1a1a5c3940>]"
      ]
     },
     "execution_count": 33,
     "metadata": {},
     "output_type": "execute_result"
    },
    {
     "data": {
      "image/png": "[encoded data removed]",
      "text/plain": [
       "<Figure size 432x288 with 1 Axes>"
      ]
     },
     "metadata": {
      "needs_background": "light"
     },
     "output_type": "display_data"
    }
   ],
   "source": [
    "plt.plot(sr_obs_true, sr_bs, 'o')\n",
    "upper = max(sr_obs_true.max(), sr_bs.max())\n",
    "plt.plot([0, upper], [0, upper])"
   ]
  },
  {
   "cell_type": "code",
   "execution_count": null,
   "metadata": {},
   "outputs": [],
   "source": []
  }
 ],
 "metadata": {
  "kernelspec": {
   "display_name": "Python [conda env:py3.6]",
   "language": "python",
   "name": "conda-env-py3.6-py"
  },
  "language_info": {
   "codemirror_mode": {
    "name": "ipython",
    "version": 3
   },
   "file_extension": ".py",
   "mimetype": "text/x-python",
   "name": "python",
   "nbconvert_exporter": "python",
   "pygments_lexer": "ipython3",
   "version": "3.6.8"
  }
 },
 "nbformat": 4,
 "nbformat_minor": 2
}
